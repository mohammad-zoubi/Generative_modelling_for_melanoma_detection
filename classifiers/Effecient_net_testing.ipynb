{
  "cells": [
    {
      "cell_type": "markdown",
      "metadata": {
        "id": "view-in-github",
        "colab_type": "text"
      },
      "source": [
        "<a href=\"https://colab.research.google.com/github/rosenanna/Master_Thesis/blob/main/classifiers/Effecient_net_testing.ipynb\" target=\"_parent\"><img src=\"https://colab.research.google.com/assets/colab-badge.svg\" alt=\"Open In Colab\"/></a>"
      ]
    },
    {
      "cell_type": "code",
      "execution_count": 1,
      "metadata": {
        "colab": {
          "base_uri": "https://localhost:8080/"
        },
        "id": "p49qD7bSzt-U",
        "outputId": "10f5f32d-ed66-43ff-8a2c-11944e7fbb27"
      },
      "outputs": [
        {
          "output_type": "stream",
          "name": "stdout",
          "text": [
            "Drive already mounted at /content/drive; to attempt to forcibly remount, call drive.mount(\"/content/drive\", force_remount=True).\n"
          ]
        }
      ],
      "source": [
        "from google.colab import drive\n",
        "drive.mount('/content/drive')"
      ]
    },
    {
      "cell_type": "code",
      "execution_count": 2,
      "metadata": {
        "colab": {
          "base_uri": "https://localhost:8080/"
        },
        "id": "bjHwAclHaNcF",
        "outputId": "f1bec6e5-f4d3-435b-a372-17344c18134c"
      },
      "outputs": [
        {
          "output_type": "stream",
          "name": "stdout",
          "text": [
            "GPU 0: Tesla K80 (UUID: GPU-02b214aa-6486-a41f-d89c-79784e7a7729)\n"
          ]
        }
      ],
      "source": [
        "!nvidia-smi -L"
      ]
    },
    {
      "cell_type": "code",
      "execution_count": 2,
      "metadata": {
        "colab": {
          "base_uri": "https://localhost:8080/"
        },
        "id": "VL20o7Sfz4l7",
        "outputId": "745f260c-0af7-4a0b-b550-46c0d4fff4a9"
      },
      "outputs": [
        {
          "output_type": "stream",
          "name": "stdout",
          "text": [
            "Collecting wandb\n",
            "  Downloading wandb-0.12.10-py2.py3-none-any.whl (1.7 MB)\n",
            "\u001b[?25l\r\u001b[K     |▏                               | 10 kB 20.4 MB/s eta 0:00:01\r\u001b[K     |▍                               | 20 kB 25.6 MB/s eta 0:00:01\r\u001b[K     |▋                               | 30 kB 11.1 MB/s eta 0:00:01\r\u001b[K     |▊                               | 40 kB 4.6 MB/s eta 0:00:01\r\u001b[K     |█                               | 51 kB 4.6 MB/s eta 0:00:01\r\u001b[K     |█▏                              | 61 kB 5.5 MB/s eta 0:00:01\r\u001b[K     |█▍                              | 71 kB 5.6 MB/s eta 0:00:01\r\u001b[K     |█▌                              | 81 kB 5.5 MB/s eta 0:00:01\r\u001b[K     |█▊                              | 92 kB 6.2 MB/s eta 0:00:01\r\u001b[K     |██                              | 102 kB 5.4 MB/s eta 0:00:01\r\u001b[K     |██                              | 112 kB 5.4 MB/s eta 0:00:01\r\u001b[K     |██▎                             | 122 kB 5.4 MB/s eta 0:00:01\r\u001b[K     |██▌                             | 133 kB 5.4 MB/s eta 0:00:01\r\u001b[K     |██▊                             | 143 kB 5.4 MB/s eta 0:00:01\r\u001b[K     |██▉                             | 153 kB 5.4 MB/s eta 0:00:01\r\u001b[K     |███                             | 163 kB 5.4 MB/s eta 0:00:01\r\u001b[K     |███▎                            | 174 kB 5.4 MB/s eta 0:00:01\r\u001b[K     |███▍                            | 184 kB 5.4 MB/s eta 0:00:01\r\u001b[K     |███▋                            | 194 kB 5.4 MB/s eta 0:00:01\r\u001b[K     |███▉                            | 204 kB 5.4 MB/s eta 0:00:01\r\u001b[K     |████                            | 215 kB 5.4 MB/s eta 0:00:01\r\u001b[K     |████▏                           | 225 kB 5.4 MB/s eta 0:00:01\r\u001b[K     |████▍                           | 235 kB 5.4 MB/s eta 0:00:01\r\u001b[K     |████▋                           | 245 kB 5.4 MB/s eta 0:00:01\r\u001b[K     |████▊                           | 256 kB 5.4 MB/s eta 0:00:01\r\u001b[K     |█████                           | 266 kB 5.4 MB/s eta 0:00:01\r\u001b[K     |█████▏                          | 276 kB 5.4 MB/s eta 0:00:01\r\u001b[K     |█████▍                          | 286 kB 5.4 MB/s eta 0:00:01\r\u001b[K     |█████▌                          | 296 kB 5.4 MB/s eta 0:00:01\r\u001b[K     |█████▊                          | 307 kB 5.4 MB/s eta 0:00:01\r\u001b[K     |██████                          | 317 kB 5.4 MB/s eta 0:00:01\r\u001b[K     |██████                          | 327 kB 5.4 MB/s eta 0:00:01\r\u001b[K     |██████▎                         | 337 kB 5.4 MB/s eta 0:00:01\r\u001b[K     |██████▌                         | 348 kB 5.4 MB/s eta 0:00:01\r\u001b[K     |██████▊                         | 358 kB 5.4 MB/s eta 0:00:01\r\u001b[K     |██████▉                         | 368 kB 5.4 MB/s eta 0:00:01\r\u001b[K     |███████                         | 378 kB 5.4 MB/s eta 0:00:01\r\u001b[K     |███████▎                        | 389 kB 5.4 MB/s eta 0:00:01\r\u001b[K     |███████▍                        | 399 kB 5.4 MB/s eta 0:00:01\r\u001b[K     |███████▋                        | 409 kB 5.4 MB/s eta 0:00:01\r\u001b[K     |███████▉                        | 419 kB 5.4 MB/s eta 0:00:01\r\u001b[K     |████████                        | 430 kB 5.4 MB/s eta 0:00:01\r\u001b[K     |████████▏                       | 440 kB 5.4 MB/s eta 0:00:01\r\u001b[K     |████████▍                       | 450 kB 5.4 MB/s eta 0:00:01\r\u001b[K     |████████▋                       | 460 kB 5.4 MB/s eta 0:00:01\r\u001b[K     |████████▊                       | 471 kB 5.4 MB/s eta 0:00:01\r\u001b[K     |█████████                       | 481 kB 5.4 MB/s eta 0:00:01\r\u001b[K     |█████████▏                      | 491 kB 5.4 MB/s eta 0:00:01\r\u001b[K     |█████████▍                      | 501 kB 5.4 MB/s eta 0:00:01\r\u001b[K     |█████████▌                      | 512 kB 5.4 MB/s eta 0:00:01\r\u001b[K     |█████████▊                      | 522 kB 5.4 MB/s eta 0:00:01\r\u001b[K     |██████████                      | 532 kB 5.4 MB/s eta 0:00:01\r\u001b[K     |██████████                      | 542 kB 5.4 MB/s eta 0:00:01\r\u001b[K     |██████████▎                     | 552 kB 5.4 MB/s eta 0:00:01\r\u001b[K     |██████████▌                     | 563 kB 5.4 MB/s eta 0:00:01\r\u001b[K     |██████████▊                     | 573 kB 5.4 MB/s eta 0:00:01\r\u001b[K     |██████████▉                     | 583 kB 5.4 MB/s eta 0:00:01\r\u001b[K     |███████████                     | 593 kB 5.4 MB/s eta 0:00:01\r\u001b[K     |███████████▎                    | 604 kB 5.4 MB/s eta 0:00:01\r\u001b[K     |███████████▍                    | 614 kB 5.4 MB/s eta 0:00:01\r\u001b[K     |███████████▋                    | 624 kB 5.4 MB/s eta 0:00:01\r\u001b[K     |███████████▉                    | 634 kB 5.4 MB/s eta 0:00:01\r\u001b[K     |████████████                    | 645 kB 5.4 MB/s eta 0:00:01\r\u001b[K     |████████████▏                   | 655 kB 5.4 MB/s eta 0:00:01\r\u001b[K     |████████████▍                   | 665 kB 5.4 MB/s eta 0:00:01\r\u001b[K     |████████████▋                   | 675 kB 5.4 MB/s eta 0:00:01\r\u001b[K     |████████████▊                   | 686 kB 5.4 MB/s eta 0:00:01\r\u001b[K     |█████████████                   | 696 kB 5.4 MB/s eta 0:00:01\r\u001b[K     |█████████████▏                  | 706 kB 5.4 MB/s eta 0:00:01\r\u001b[K     |█████████████▍                  | 716 kB 5.4 MB/s eta 0:00:01\r\u001b[K     |█████████████▌                  | 727 kB 5.4 MB/s eta 0:00:01\r\u001b[K     |█████████████▊                  | 737 kB 5.4 MB/s eta 0:00:01\r\u001b[K     |██████████████                  | 747 kB 5.4 MB/s eta 0:00:01\r\u001b[K     |██████████████                  | 757 kB 5.4 MB/s eta 0:00:01\r\u001b[K     |██████████████▎                 | 768 kB 5.4 MB/s eta 0:00:01\r\u001b[K     |██████████████▌                 | 778 kB 5.4 MB/s eta 0:00:01\r\u001b[K     |██████████████▊                 | 788 kB 5.4 MB/s eta 0:00:01\r\u001b[K     |██████████████▉                 | 798 kB 5.4 MB/s eta 0:00:01\r\u001b[K     |███████████████                 | 808 kB 5.4 MB/s eta 0:00:01\r\u001b[K     |███████████████▎                | 819 kB 5.4 MB/s eta 0:00:01\r\u001b[K     |███████████████▍                | 829 kB 5.4 MB/s eta 0:00:01\r\u001b[K     |███████████████▋                | 839 kB 5.4 MB/s eta 0:00:01\r\u001b[K     |███████████████▉                | 849 kB 5.4 MB/s eta 0:00:01\r\u001b[K     |████████████████                | 860 kB 5.4 MB/s eta 0:00:01\r\u001b[K     |████████████████▏               | 870 kB 5.4 MB/s eta 0:00:01\r\u001b[K     |████████████████▍               | 880 kB 5.4 MB/s eta 0:00:01\r\u001b[K     |████████████████▋               | 890 kB 5.4 MB/s eta 0:00:01\r\u001b[K     |████████████████▊               | 901 kB 5.4 MB/s eta 0:00:01\r\u001b[K     |█████████████████               | 911 kB 5.4 MB/s eta 0:00:01\r\u001b[K     |█████████████████▏              | 921 kB 5.4 MB/s eta 0:00:01\r\u001b[K     |█████████████████▍              | 931 kB 5.4 MB/s eta 0:00:01\r\u001b[K     |█████████████████▌              | 942 kB 5.4 MB/s eta 0:00:01\r\u001b[K     |█████████████████▊              | 952 kB 5.4 MB/s eta 0:00:01\r\u001b[K     |██████████████████              | 962 kB 5.4 MB/s eta 0:00:01\r\u001b[K     |██████████████████              | 972 kB 5.4 MB/s eta 0:00:01\r\u001b[K     |██████████████████▎             | 983 kB 5.4 MB/s eta 0:00:01\r\u001b[K     |██████████████████▌             | 993 kB 5.4 MB/s eta 0:00:01\r\u001b[K     |██████████████████▊             | 1.0 MB 5.4 MB/s eta 0:00:01\r\u001b[K     |██████████████████▉             | 1.0 MB 5.4 MB/s eta 0:00:01\r\u001b[K     |███████████████████             | 1.0 MB 5.4 MB/s eta 0:00:01\r\u001b[K     |███████████████████▎            | 1.0 MB 5.4 MB/s eta 0:00:01\r\u001b[K     |███████████████████▍            | 1.0 MB 5.4 MB/s eta 0:00:01\r\u001b[K     |███████████████████▋            | 1.1 MB 5.4 MB/s eta 0:00:01\r\u001b[K     |███████████████████▉            | 1.1 MB 5.4 MB/s eta 0:00:01\r\u001b[K     |████████████████████            | 1.1 MB 5.4 MB/s eta 0:00:01\r\u001b[K     |████████████████████▏           | 1.1 MB 5.4 MB/s eta 0:00:01\r\u001b[K     |████████████████████▍           | 1.1 MB 5.4 MB/s eta 0:00:01\r\u001b[K     |████████████████████▋           | 1.1 MB 5.4 MB/s eta 0:00:01\r\u001b[K     |████████████████████▊           | 1.1 MB 5.4 MB/s eta 0:00:01\r\u001b[K     |█████████████████████           | 1.1 MB 5.4 MB/s eta 0:00:01\r\u001b[K     |█████████████████████▏          | 1.1 MB 5.4 MB/s eta 0:00:01\r\u001b[K     |█████████████████████▍          | 1.1 MB 5.4 MB/s eta 0:00:01\r\u001b[K     |█████████████████████▌          | 1.2 MB 5.4 MB/s eta 0:00:01\r\u001b[K     |█████████████████████▊          | 1.2 MB 5.4 MB/s eta 0:00:01\r\u001b[K     |██████████████████████          | 1.2 MB 5.4 MB/s eta 0:00:01\r\u001b[K     |██████████████████████          | 1.2 MB 5.4 MB/s eta 0:00:01\r\u001b[K     |██████████████████████▎         | 1.2 MB 5.4 MB/s eta 0:00:01\r\u001b[K     |██████████████████████▌         | 1.2 MB 5.4 MB/s eta 0:00:01\r\u001b[K     |██████████████████████▊         | 1.2 MB 5.4 MB/s eta 0:00:01\r\u001b[K     |██████████████████████▉         | 1.2 MB 5.4 MB/s eta 0:00:01\r\u001b[K     |███████████████████████         | 1.2 MB 5.4 MB/s eta 0:00:01\r\u001b[K     |███████████████████████▎        | 1.2 MB 5.4 MB/s eta 0:00:01\r\u001b[K     |███████████████████████▍        | 1.3 MB 5.4 MB/s eta 0:00:01\r\u001b[K     |███████████████████████▋        | 1.3 MB 5.4 MB/s eta 0:00:01\r\u001b[K     |███████████████████████▉        | 1.3 MB 5.4 MB/s eta 0:00:01\r\u001b[K     |████████████████████████        | 1.3 MB 5.4 MB/s eta 0:00:01\r\u001b[K     |████████████████████████▏       | 1.3 MB 5.4 MB/s eta 0:00:01\r\u001b[K     |████████████████████████▍       | 1.3 MB 5.4 MB/s eta 0:00:01\r\u001b[K     |████████████████████████▋       | 1.3 MB 5.4 MB/s eta 0:00:01\r\u001b[K     |████████████████████████▊       | 1.3 MB 5.4 MB/s eta 0:00:01\r\u001b[K     |█████████████████████████       | 1.3 MB 5.4 MB/s eta 0:00:01\r\u001b[K     |█████████████████████████▏      | 1.4 MB 5.4 MB/s eta 0:00:01\r\u001b[K     |█████████████████████████▍      | 1.4 MB 5.4 MB/s eta 0:00:01\r\u001b[K     |█████████████████████████▌      | 1.4 MB 5.4 MB/s eta 0:00:01\r\u001b[K     |█████████████████████████▊      | 1.4 MB 5.4 MB/s eta 0:00:01\r\u001b[K     |██████████████████████████      | 1.4 MB 5.4 MB/s eta 0:00:01\r\u001b[K     |██████████████████████████▏     | 1.4 MB 5.4 MB/s eta 0:00:01\r\u001b[K     |██████████████████████████▎     | 1.4 MB 5.4 MB/s eta 0:00:01\r\u001b[K     |██████████████████████████▌     | 1.4 MB 5.4 MB/s eta 0:00:01\r\u001b[K     |██████████████████████████▊     | 1.4 MB 5.4 MB/s eta 0:00:01\r\u001b[K     |██████████████████████████▉     | 1.4 MB 5.4 MB/s eta 0:00:01\r\u001b[K     |███████████████████████████     | 1.5 MB 5.4 MB/s eta 0:00:01\r\u001b[K     |███████████████████████████▎    | 1.5 MB 5.4 MB/s eta 0:00:01\r\u001b[K     |███████████████████████████▌    | 1.5 MB 5.4 MB/s eta 0:00:01\r\u001b[K     |███████████████████████████▋    | 1.5 MB 5.4 MB/s eta 0:00:01\r\u001b[K     |███████████████████████████▉    | 1.5 MB 5.4 MB/s eta 0:00:01\r\u001b[K     |████████████████████████████    | 1.5 MB 5.4 MB/s eta 0:00:01\r\u001b[K     |████████████████████████████▏   | 1.5 MB 5.4 MB/s eta 0:00:01\r\u001b[K     |████████████████████████████▍   | 1.5 MB 5.4 MB/s eta 0:00:01\r\u001b[K     |████████████████████████████▋   | 1.5 MB 5.4 MB/s eta 0:00:01\r\u001b[K     |████████████████████████████▉   | 1.5 MB 5.4 MB/s eta 0:00:01\r\u001b[K     |█████████████████████████████   | 1.6 MB 5.4 MB/s eta 0:00:01\r\u001b[K     |█████████████████████████████▏  | 1.6 MB 5.4 MB/s eta 0:00:01\r\u001b[K     |█████████████████████████████▍  | 1.6 MB 5.4 MB/s eta 0:00:01\r\u001b[K     |█████████████████████████████▌  | 1.6 MB 5.4 MB/s eta 0:00:01\r\u001b[K     |█████████████████████████████▊  | 1.6 MB 5.4 MB/s eta 0:00:01\r\u001b[K     |██████████████████████████████  | 1.6 MB 5.4 MB/s eta 0:00:01\r\u001b[K     |██████████████████████████████▏ | 1.6 MB 5.4 MB/s eta 0:00:01\r\u001b[K     |██████████████████████████████▎ | 1.6 MB 5.4 MB/s eta 0:00:01\r\u001b[K     |██████████████████████████████▌ | 1.6 MB 5.4 MB/s eta 0:00:01\r\u001b[K     |██████████████████████████████▊ | 1.6 MB 5.4 MB/s eta 0:00:01\r\u001b[K     |██████████████████████████████▉ | 1.7 MB 5.4 MB/s eta 0:00:01\r\u001b[K     |███████████████████████████████ | 1.7 MB 5.4 MB/s eta 0:00:01\r\u001b[K     |███████████████████████████████▎| 1.7 MB 5.4 MB/s eta 0:00:01\r\u001b[K     |███████████████████████████████▌| 1.7 MB 5.4 MB/s eta 0:00:01\r\u001b[K     |███████████████████████████████▋| 1.7 MB 5.4 MB/s eta 0:00:01\r\u001b[K     |███████████████████████████████▉| 1.7 MB 5.4 MB/s eta 0:00:01\r\u001b[K     |████████████████████████████████| 1.7 MB 5.4 MB/s \n",
            "\u001b[?25hCollecting pathtools\n",
            "  Downloading pathtools-0.1.2.tar.gz (11 kB)\n",
            "Requirement already satisfied: requests<3,>=2.0.0 in /usr/local/lib/python3.7/dist-packages (from wandb) (2.23.0)\n",
            "Requirement already satisfied: psutil>=5.0.0 in /usr/local/lib/python3.7/dist-packages (from wandb) (5.4.8)\n",
            "Collecting GitPython>=1.0.0\n",
            "  Downloading GitPython-3.1.27-py3-none-any.whl (181 kB)\n",
            "\u001b[K     |████████████████████████████████| 181 kB 42.0 MB/s \n",
            "\u001b[?25hCollecting shortuuid>=0.5.0\n",
            "  Downloading shortuuid-1.0.8-py3-none-any.whl (9.5 kB)\n",
            "Requirement already satisfied: python-dateutil>=2.6.1 in /usr/local/lib/python3.7/dist-packages (from wandb) (2.8.2)\n",
            "Requirement already satisfied: six>=1.13.0 in /usr/local/lib/python3.7/dist-packages (from wandb) (1.15.0)\n",
            "Requirement already satisfied: Click!=8.0.0,>=7.0 in /usr/local/lib/python3.7/dist-packages (from wandb) (7.1.2)\n",
            "Requirement already satisfied: promise<3,>=2.0 in /usr/local/lib/python3.7/dist-packages (from wandb) (2.3)\n",
            "Collecting sentry-sdk>=1.0.0\n",
            "  Downloading sentry_sdk-1.5.6-py2.py3-none-any.whl (144 kB)\n",
            "\u001b[K     |████████████████████████████████| 144 kB 47.8 MB/s \n",
            "\u001b[?25hRequirement already satisfied: PyYAML in /usr/local/lib/python3.7/dist-packages (from wandb) (3.13)\n",
            "Requirement already satisfied: protobuf>=3.12.0 in /usr/local/lib/python3.7/dist-packages (from wandb) (3.17.3)\n",
            "Collecting docker-pycreds>=0.4.0\n",
            "  Downloading docker_pycreds-0.4.0-py2.py3-none-any.whl (9.0 kB)\n",
            "Collecting yaspin>=1.0.0\n",
            "  Downloading yaspin-2.1.0-py3-none-any.whl (18 kB)\n",
            "Requirement already satisfied: typing-extensions>=3.7.4.3 in /usr/local/lib/python3.7/dist-packages (from GitPython>=1.0.0->wandb) (3.10.0.2)\n",
            "Collecting gitdb<5,>=4.0.1\n",
            "  Downloading gitdb-4.0.9-py3-none-any.whl (63 kB)\n",
            "\u001b[K     |████████████████████████████████| 63 kB 1.9 MB/s \n",
            "\u001b[?25hCollecting smmap<6,>=3.0.1\n",
            "  Downloading smmap-5.0.0-py3-none-any.whl (24 kB)\n",
            "Requirement already satisfied: certifi>=2017.4.17 in /usr/local/lib/python3.7/dist-packages (from requests<3,>=2.0.0->wandb) (2021.10.8)\n",
            "Requirement already satisfied: chardet<4,>=3.0.2 in /usr/local/lib/python3.7/dist-packages (from requests<3,>=2.0.0->wandb) (3.0.4)\n",
            "Requirement already satisfied: urllib3!=1.25.0,!=1.25.1,<1.26,>=1.21.1 in /usr/local/lib/python3.7/dist-packages (from requests<3,>=2.0.0->wandb) (1.24.3)\n",
            "Requirement already satisfied: idna<3,>=2.5 in /usr/local/lib/python3.7/dist-packages (from requests<3,>=2.0.0->wandb) (2.10)\n",
            "Requirement already satisfied: termcolor<2.0.0,>=1.1.0 in /usr/local/lib/python3.7/dist-packages (from yaspin>=1.0.0->wandb) (1.1.0)\n",
            "Building wheels for collected packages: pathtools\n",
            "  Building wheel for pathtools (setup.py) ... \u001b[?25l\u001b[?25hdone\n",
            "  Created wheel for pathtools: filename=pathtools-0.1.2-py3-none-any.whl size=8806 sha256=aafc5cbe025f099411c501f81a311149a2b1d67f0bebc7551fc92ceec5e6440f\n",
            "  Stored in directory: /root/.cache/pip/wheels/3e/31/09/fa59cef12cdcfecc627b3d24273699f390e71828921b2cbba2\n",
            "Successfully built pathtools\n",
            "Installing collected packages: smmap, gitdb, yaspin, shortuuid, sentry-sdk, pathtools, GitPython, docker-pycreds, wandb\n",
            "Successfully installed GitPython-3.1.27 docker-pycreds-0.4.0 gitdb-4.0.9 pathtools-0.1.2 sentry-sdk-1.5.6 shortuuid-1.0.8 smmap-5.0.0 wandb-0.12.10 yaspin-2.1.0\n",
            "Collecting efficientnet_pytorch\n",
            "  Downloading efficientnet_pytorch-0.7.1.tar.gz (21 kB)\n",
            "Requirement already satisfied: torch in /usr/local/lib/python3.7/dist-packages (from efficientnet_pytorch) (1.10.0+cu111)\n",
            "Requirement already satisfied: typing-extensions in /usr/local/lib/python3.7/dist-packages (from torch->efficientnet_pytorch) (3.10.0.2)\n",
            "Building wheels for collected packages: efficientnet-pytorch\n",
            "  Building wheel for efficientnet-pytorch (setup.py) ... \u001b[?25l\u001b[?25hdone\n",
            "  Created wheel for efficientnet-pytorch: filename=efficientnet_pytorch-0.7.1-py3-none-any.whl size=16446 sha256=8ea6a1b19fff01ca876ef9b3d4fce8d646468fd5cef5f90a4ea264e075d8ce7e\n",
            "  Stored in directory: /root/.cache/pip/wheels/0e/cc/b2/49e74588263573ff778da58cc99b9c6349b496636a7e165be6\n",
            "Successfully built efficientnet-pytorch\n",
            "Installing collected packages: efficientnet-pytorch\n",
            "Successfully installed efficientnet-pytorch-0.7.1\n"
          ]
        }
      ],
      "source": [
        "import os\n",
        "from PIL import Image\n",
        "!pip install wandb\n",
        "!pip install efficientnet_pytorch"
      ]
    },
    {
      "cell_type": "code",
      "execution_count": null,
      "metadata": {
        "id": "XLWkdswN0vGA"
      },
      "outputs": [],
      "source": [
        "# for m in range(1, 1344+1):\n",
        "  \n",
        "    \n",
        "#     # image_path = '/content/drive/MyDrive/thesis/ELLA_Eivor1.0_DERM_dataset.zip (Unzipped Files)/test/smallTest'\n",
        "#     image_path = '/content/drive/MyDrive/ELLA_Eivor1.0_DERM_dataset.zip (Unzipped Files)/everything'\n",
        "#     path_in = os.path.join(image_path, \"{:04d}\".format(m)+ '_derm_01.png') \n",
        "    \n",
        "#     im = Image.open(\"Ba_b_do8mag_c6_big.png\")\n",
        "#     rgb_im = im.convert('RGB')\n",
        "#     rgb_im.save('colors.jpg')"
      ]
    },
    {
      "cell_type": "code",
      "execution_count": 3,
      "metadata": {
        "colab": {
          "base_uri": "https://localhost:8080/"
        },
        "id": "I6Qk_RHfz6G8",
        "outputId": "bfe8997d-f9bd-460f-febf-08f7fb86b920"
      },
      "outputs": [
        {
          "output_type": "stream",
          "name": "stdout",
          "text": [
            "/bin/bash: -c: line 0: syntax error near unexpected token `('\n",
            "/bin/bash: -c: line 0: `git clone https://github.com/rosenanna/Master_Thesis/tree/main/stylegan2-ada-pytorch(sandras)'\n",
            "Collecting ninja\n",
            "  Downloading ninja-1.10.2.3-py2.py3-none-manylinux_2_5_x86_64.manylinux1_x86_64.whl (108 kB)\n",
            "\u001b[K     |████████████████████████████████| 108 kB 5.4 MB/s \n",
            "\u001b[?25hCollecting opensimplex\n",
            "  Downloading opensimplex-0.4.2-py3-none-any.whl (17 kB)\n",
            "Collecting torch==1.7.1\n",
            "  Downloading torch-1.7.1-cp37-cp37m-manylinux1_x86_64.whl (776.8 MB)\n",
            "\u001b[K     |████████████████████████████████| 776.8 MB 19 kB/s \n",
            "\u001b[?25hCollecting torchvision==0.8.2\n",
            "  Downloading torchvision-0.8.2-cp37-cp37m-manylinux1_x86_64.whl (12.8 MB)\n",
            "\u001b[K     |████████████████████████████████| 12.8 MB 19.8 MB/s \n",
            "\u001b[?25hRequirement already satisfied: numpy in /usr/local/lib/python3.7/dist-packages (from torch==1.7.1) (1.21.5)\n",
            "Requirement already satisfied: typing-extensions in /usr/local/lib/python3.7/dist-packages (from torch==1.7.1) (3.10.0.2)\n",
            "Requirement already satisfied: pillow>=4.1.1 in /usr/local/lib/python3.7/dist-packages (from torchvision==0.8.2) (7.1.2)\n",
            "Installing collected packages: torch, torchvision, opensimplex, ninja\n",
            "  Attempting uninstall: torch\n",
            "    Found existing installation: torch 1.10.0+cu111\n",
            "    Uninstalling torch-1.10.0+cu111:\n",
            "      Successfully uninstalled torch-1.10.0+cu111\n",
            "  Attempting uninstall: torchvision\n",
            "    Found existing installation: torchvision 0.11.1+cu111\n",
            "    Uninstalling torchvision-0.11.1+cu111:\n",
            "      Successfully uninstalled torchvision-0.11.1+cu111\n",
            "\u001b[31mERROR: pip's dependency resolver does not currently take into account all the packages that are installed. This behaviour is the source of the following dependency conflicts.\n",
            "torchtext 0.11.0 requires torch==1.10.0, but you have torch 1.7.1 which is incompatible.\n",
            "torchaudio 0.10.0+cu111 requires torch==1.10.0, but you have torch 1.7.1 which is incompatible.\u001b[0m\n",
            "Successfully installed ninja-1.10.2.3 opensimplex-0.4.2 torch-1.7.1 torchvision-0.8.2\n"
          ]
        }
      ],
      "source": [
        "# import code\n",
        "!git clone https://github.com/rosenanna/Master_Thesis/tree/main/stylegan2-ada-pytorch(sandras)\n",
        "!pip install ninja opensimplex torch==1.7.1 torchvision==0.8.2"
      ]
    },
    {
      "cell_type": "code",
      "execution_count": 32,
      "metadata": {
        "colab": {
          "base_uri": "https://localhost:8080/"
        },
        "id": "FirA_ng7z92d",
        "outputId": "0be1028a-8d53-4c2b-841e-17c45ab0feea"
      },
      "outputs": [
        {
          "output_type": "stream",
          "name": "stdout",
          "text": [
            "cuda\n",
            "Loaded pretrained weights for efficientnet-b2\n",
            "Test Accuracy: 0.99912, ROC_AUC_score: 0.00000, F1 score: 0.0000\n",
            "<Figure size 550x400 with 2 Axes>\n"
          ]
        }
      ],
      "source": [
        "!python predict.py \\\n",
        "--dataset_source='SAM'\\\n",
        "--seeds=1-4 \\\n",
        "--data_path='/content/drive/MyDrive/ELLA_Eivor1.0_DERM_dataset.zip (Unzipped Files)/SAM_unprocessed' \\\n",
        "--model_path='/content/drive/MyDrive/models/classifier_efficientnet-b2_conditional_train_reals+15melanoma.pth' \\\n",
        "--out_path='/content/drive/MyDrive/ELLA_Eivor1.0_DERM_dataset.zip (Unzipped Files)'"
      ]
    },
    {
      "cell_type": "code",
      "execution_count": 16,
      "metadata": {
        "id": "g10Ga_nNbYGt"
      },
      "outputs": [],
      "source": [
        "#Test Accuracy: 0.86104, ROC_AUC_score: 0.00000, F1 score: 0.0000"
      ]
    },
    {
      "cell_type": "code",
      "execution_count": null,
      "metadata": {
        "id": "HBNSlIQMSBk1"
      },
      "outputs": [],
      "source": [
        "!python run_projector_generator.py \\\n",
        "--filename='/content/drive/MyDrive/ELLA_Eivor1.0_DERM_dataset_sorted/labels.json'\\\n",
        "--directory='/content/drive/MyDrive/ELLA_Eivor1.0_DERM_dataset.zip (Unzipped Files)/SAM'\\\n",
        "--task=\"project\"\\\n",
        "--network='/content/drive/MyDrive/models/classifier_efficientnet-b2_conditional_train_reals+15melanoma.pth'\\\n",
        "--class_idx=1\\\n",
        "--num_imgs=1137\\\n",
        "--outdir='/content/drive/MyDrive/ELLA_Eivor1.0_DERM_dataset_sorted'"
      ]
    }
  ],
  "metadata": {
    "accelerator": "GPU",
    "colab": {
      "collapsed_sections": [],
      "name": "Effecient_net_testing.ipynb",
      "provenance": [],
      "mount_file_id": "1hv0JhTtKVUyzM8eMX3EQYgmrZFcd3pAg",
      "authorship_tag": "ABX9TyPIHyqZvJpIqn6g8AtI1kqy",
      "include_colab_link": true
    },
    "kernelspec": {
      "display_name": "Python 3",
      "name": "python3"
    },
    "language_info": {
      "name": "python"
    }
  },
  "nbformat": 4,
  "nbformat_minor": 0
}