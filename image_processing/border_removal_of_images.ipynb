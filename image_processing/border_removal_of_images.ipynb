{
  "nbformat": 4,
  "nbformat_minor": 0,
  "metadata": {
    "colab": {
      "name": "border_removal_of_images.ipynb",
      "provenance": [],
      "authorship_tag": "ABX9TyPyHYrP44Uqr15FW78lgrGx",
      "include_colab_link": true
    },
    "kernelspec": {
      "name": "python3",
      "display_name": "Python 3"
    },
    "language_info": {
      "name": "python"
    }
  },
  "cells": [
    {
      "cell_type": "markdown",
      "metadata": {
        "id": "view-in-github",
        "colab_type": "text"
      },
      "source": [
        "<a href=\"https://colab.research.google.com/github/rosenanna/Master_Thesis/blob/main/image_processing/border_removal_of_images.ipynb\" target=\"_parent\"><img src=\"https://colab.research.google.com/assets/colab-badge.svg\" alt=\"Open In Colab\"/></a>"
      ]
    },
    {
      "cell_type": "code",
      "execution_count": null,
      "metadata": {
        "colab": {
          "base_uri": "https://localhost:8080/"
        },
        "id": "7E_67Bh0YbuB",
        "outputId": "9ac542d4-1892-4737-836d-0eb6b09e0909"
      },
      "outputs": [
        {
          "output_type": "stream",
          "name": "stdout",
          "text": [
            "Drive already mounted at /content/drive; to attempt to forcibly remount, call drive.mount(\"/content/drive\", force_remount=True).\n"
          ]
        }
      ],
      "source": [
        "from google.colab import drive\n",
        "drive.mount('/content/drive')"
      ]
    },
    {
      "cell_type": "code",
      "execution_count": null,
      "metadata": {
        "id": "fbn5n4CwFmOQ"
      },
      "outputs": [],
      "source": [
        "!pip install -U albumentations\n",
        "!pip install opencv-python-headless==4.1.2.30"
      ]
    },
    {
      "cell_type": "code",
      "execution_count": null,
      "metadata": {
        "id": "Ss4R57kMF2XN"
      },
      "outputs": [],
      "source": [
        "import cv2\n",
        "import albumentations as A\n",
        "import numpy as np\n",
        "from matplotlib import pyplot as plt\n",
        "from google.colab.patches import cv2_imshow\n",
        "import random\n",
        "import os"
      ]
    },
    {
      "cell_type": "code",
      "execution_count": null,
      "metadata": {
        "cellView": "code",
        "id": "FZf2IAKxUGhk"
      },
      "outputs": [],
      "source": [
        "### Specify the number of images\n",
        "for m in range(692, 1344+1):\n",
        "    \n",
        "    # image_path = '/content/drive/MyDrive/thesis/ELLA_Eivor1.0_DERM_dataset.zip (Unzipped Files)/test/smallTest'\n",
        "    image_path = '/content/drive/MyDrive/ELLA_Eivor1.0_DERM_dataset.zip (Unzipped Files)/everything'\n",
        "    path_in = os.path.join(image_path, \"{:04d}\".format(m)+ '_derm_01.png') \n",
        "    img = cv2.imread(path_in)\n",
        "    if os.path.isfile(path_in) == False:\n",
        "      continue\n",
        "    gray = cv2.cvtColor(img,cv2.COLOR_BGR2GRAY)\n",
        "    _,thresh = cv2.threshold(gray,1,255,cv2.THRESH_BINARY)\n",
        "    # cv2_imshow(gray)\n",
        "\n",
        "    threshold = 80\n",
        "    shadow_threshold = 0.025*gray_cropped_image.shape[0]\n",
        "\n",
        "    histo = np.histogram(gray,100,  [30,255])\n",
        "    for i in range(histo[0].shape[0]-5, 0, -1):\n",
        "      if histo[0][i-1] < np.mean([histo[0][i], histo[0][i+1], histo[0][i+2], histo[0][i+3], histo[0][i+4]]):\n",
        "        threshold_skin = histo[1][i-1]\n",
        "        break;\n",
        "    threshold_skin = threshold_skin - 30\n",
        "\n",
        "    # Finding where the pixels are above the threshold\n",
        "    for j in range(gray.shape[1]):\n",
        "      find = False\n",
        "      for i in range(gray.shape[0]):\n",
        "        if gray[i][j] >= threshold:\n",
        "          y_init = j\n",
        "          find = True\n",
        "          break\n",
        "      if find:\n",
        "        break\n",
        "    # Finding the cordinates from all 4 sides in the picture\n",
        "    for j in range(gray.shape[1]-1,0,-1):\n",
        "      find = False\n",
        "      for i in range(gray.shape[0]-1,0,-1):\n",
        "        if gray[i][j] >= threshold:\n",
        "          y_fin = j\n",
        "          find = True\n",
        "          break\n",
        "      if find:\n",
        "        break\n",
        "\n",
        "    for i in range(gray.shape[1]):\n",
        "      find = False\n",
        "      for j in range(gray.shape[0]):\n",
        "        if gray[i][j] >= threshold:\n",
        "          x_init = i\n",
        "          find = True\n",
        "          break\n",
        "      if find:\n",
        "        break\n",
        "\n",
        "    for i in range(gray.shape[1]-1,0,-1):\n",
        "      find = False\n",
        "      for j in range(gray.shape[0]-1,0,-1):\n",
        "        if gray[i][j] >= threshold:\n",
        "          x_fin = i\n",
        "          find = True\n",
        "          break\n",
        "      if find:\n",
        "        break\n",
        "\n",
        "    # crop_dims = np.array([x_init, y_init, x_fin, y_fin])\n",
        "    # Cropping the image so that only what's above the threshold is included\n",
        "    # for both the original and gray image\n",
        "    cropped_image = img[y_init:y_fin, x_init:x_fin]\n",
        "    gray_cropped_image = gray[y_init:y_fin, x_init:x_fin]\n",
        "    good_pixels = []\n",
        "    bad_pixels = []\n",
        "    for j in range(gray_cropped_image.shape[1]):\n",
        "      for i in range(gray_cropped_image.shape[0]):\n",
        "        if gray_cropped_image[i][j] < 30:\n",
        "          bad_pixels.append(np.array([i,j]))\n",
        "        elif gray_cropped_image[i][j] > threshold_skin:\n",
        "          good_pixels.append([i,j])\n",
        "    good_pixels = np.array(good_pixels)\n",
        "    bad_pixels = np.array(bad_pixels)\n",
        "    # I'm a little cinfused as to what happens here?\n",
        "    bad_list = np.random.randint(bad_pixels.shape[0], size=bad_pixels.shape[0])\n",
        "    good_list = np.random.randint(good_pixels.shape[0], size=good_pixels.shape[0])\n",
        "\n",
        "    bad_pixel_list = bad_pixels[bad_list]\n",
        "    good_pixel_list = good_pixels[good_list]\n",
        "    # cropped_image[bad_pixel_list] = cropped_image[good_pixel_list]\n",
        "    \n",
        "    temp = 0\n",
        "    #Replacing \"bad\" pixels with good ones\n",
        "    # 2nd quadrant\n",
        "    for i in range(int(np.floor(gray_cropped_image.shape[0]/2))):\n",
        "        for j in range(int(np.floor(gray_cropped_image.shape[1]/2))):\n",
        "            \n",
        "            if gray_cropped_image[i,j] < threshold or gray_cropped_image[i,j] < gray_cropped_image[i+1,j+1]:\n",
        "                rand = np.random.randint(0, good_pixel_list.shape[0])\n",
        "                cropped_image[i,j,:] = cropped_image[good_pixel_list[rand][0], good_pixel_list[rand][1], :] \n",
        "            elif temp > shadow_threshold:\n",
        "                temp = 0\n",
        "                break\n",
        "            else :\n",
        "                temp = temp +1\n",
        "\n",
        "            \n",
        "\n",
        "    # 1st quadrant\n",
        "    for i in range(int(np.floor(gray_cropped_image.shape[0]/2))):\n",
        "        for j in range(gray_cropped_image.shape[1]-3, int(np.floor(gray_cropped_image.shape[1]/2)-3), -1):\n",
        "            # if gray_cropped_image[i,j] > 2*threshold:\n",
        "            #     break\n",
        "            if gray_cropped_image[i,j] < threshold or gray_cropped_image[i,j] < gray_cropped_image[i+1,j-1]:\n",
        "                rand = np.random.randint(0, good_pixel_list.shape[0])\n",
        "                cropped_image[i,j,:] = cropped_image[good_pixel_list[rand][0], good_pixel_list[rand][1], :] \n",
        "            elif temp > shadow_threshold:\n",
        "                temp = 0\n",
        "                break\n",
        "            else :\n",
        "                temp = temp +1\n",
        "\n",
        "    # 3rd quadrant\n",
        "    for i in range(gray_cropped_image.shape[0]-2, int(np.floor(gray_cropped_image.shape[0]/2)-3), -1):\n",
        "        for j in range(int(np.floor(gray_cropped_image.shape[1]/2))):\n",
        "            # if gray_cropped_image[i,j] > 2*threshold:\n",
        "            #     break\n",
        "            if gray_cropped_image[i,j] < threshold or gray_cropped_image[i,j] < gray_cropped_image[i-1,j+1]:\n",
        "                rand = np.random.randint(0, good_pixel_list.shape[0])\n",
        "                cropped_image[i,j,:] = cropped_image[good_pixel_list[rand][0], good_pixel_list[rand][1], :] \n",
        "            elif temp > shadow_threshold:\n",
        "                temp = 0\n",
        "                break\n",
        "            else :\n",
        "                temp = temp +1\n",
        "\n",
        "    # 4th quadrant\n",
        "    for i in range(gray_cropped_image.shape[0]-2, int(np.floor(gray_cropped_image.shape[0]/2)-3), -1):\n",
        "        for j in range(gray_cropped_image.shape[1]-2, int(np.floor(gray_cropped_image.shape[1]/2)-3), -1):\n",
        "            # if gray_cropped_image[i,j] > 2*threshold:\n",
        "            #     break\n",
        "            if gray_cropped_image[i,j] < threshold or gray_cropped_image[i,j] < gray_cropped_image[i-1,j-1]:\n",
        "                rand = np.random.randint(0, good_pixel_list.shape[0])\n",
        "                cropped_image[i,j,:] = cropped_image[good_pixel_list[rand][0], good_pixel_list[rand][1], :] \n",
        "            elif temp > shadow_threshold:\n",
        "                temp = 0\n",
        "                break\n",
        "            else :\n",
        "                temp = temp +1\n",
        "\n",
        "\n",
        "\n",
        "    # path_out = os.path.join('/content/drive/MyDrive/pre_processed_images(different sizes)/', \"{:04d}\".format(m)+ '_derm_01.jpeg')\n",
        "    path_out = os.path.join('/content/drive/MyDrive/ELLA_Eivor1.0_DERM_dataset.zip (Unzipped Files)/preprocessed/', \"{:04d}\".format(m)+ '_derm_01.jpeg')\n",
        "    \n",
        "    cv2.imwrite(path_out, cropped_image)"
      ]
    }
  ]
}