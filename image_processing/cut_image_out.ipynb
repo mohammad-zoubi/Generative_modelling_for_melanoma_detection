{
  "cells": [
    {
      "cell_type": "markdown",
      "metadata": {
        "id": "view-in-github",
        "colab_type": "text"
      },
      "source": [
        "<a href=\"https://colab.research.google.com/github/mohammad-zoubi/Generative_modelling_for_melanoma_detection/blob/main/image_processing/cut_image_out.ipynb\" target=\"_parent\"><img src=\"https://colab.research.google.com/assets/colab-badge.svg\" alt=\"Open In Colab\"/></a>"
      ]
    },
    {
      "cell_type": "code",
      "execution_count": null,
      "metadata": {
        "colab": {
          "base_uri": "https://localhost:8080/"
        },
        "id": "hYfpk6l_KHC3",
        "outputId": "4c3116c4-bed8-46ca-9dcb-906a1f4829a7"
      },
      "outputs": [
        {
          "output_type": "stream",
          "name": "stdout",
          "text": [
            "Mounted at /content/drive\n"
          ]
        }
      ],
      "source": [
        "from google.colab import drive\n",
        "drive.mount('/content/drive')"
      ]
    },
    {
      "cell_type": "code",
      "execution_count": null,
      "metadata": {
        "id": "SOYGI9f7OWXu"
      },
      "outputs": [],
      "source": [
        "# import\n",
        "import zipfile\n",
        "import cv2\n",
        "import albumentations as A\n",
        "import numpy as np\n",
        "from matplotlib import pyplot as plt\n",
        "from google.colab.patches import cv2_imshow\n",
        "import random\n",
        "import os\n",
        "from zipfile import ZipFile\n",
        "import pandas as pd\n",
        "import seaborn as sns\n",
        "import shutil\n",
        "from PIL import ImageFile\n",
        "from io import BytesIO"
      ]
    },
    {
      "cell_type": "code",
      "execution_count": null,
      "metadata": {
        "id": "cMRHrw5YOY4r"
      },
      "outputs": [],
      "source": [
        "zipped_file_path = \"/content/drive/MyDrive/ExJobb/ISIC256x256/ISIC256_train_unprocessed.zip\"\n",
        "mod_zipped_file_path = \"/content/drive/MyDrive/ExJobb/ISIC256x256/\"\n",
        "csv_file_path = \"/content/drive/MyDrive/ExJobb/ISIC256x256/bias_pseudoannotations_real_train_ISIC20.csv\"\n",
        "SAM_zipped_file_path = \"/content/drive/MyDrive/ExJobb/SAM256_unprocessed.zip\"\n",
        "SAM_unprocessed_imgs = \"/content/drive/MyDrive/ExJobb/Sahlgrenska/SAM_unprocessed\""
      ]
    },
    {
      "cell_type": "code",
      "execution_count": null,
      "metadata": {
        "id": "ILjF9PKDOe6e"
      },
      "outputs": [],
      "source": [
        "def hair_removal(img, kern, intensity):\n",
        "    # src = cv2.imread(path_in)\n",
        "    src = img\n",
        "    # Convert the original image to grayscale\n",
        "    grayScale = cv2.cvtColor( src, cv2.COLOR_RGB2GRAY )\n",
        "    \n",
        "    # Kernel for the morphological filtering\n",
        "    kernel = cv2.getStructuringElement(1,(kern,kern))\n",
        "\n",
        "    # Perform the blackHat filtering on the grayscale image to find the \n",
        "    # hair countours\n",
        "    blackhat = cv2.morphologyEx(grayScale, cv2.MORPH_BLACKHAT, kernel)\n",
        "  \n",
        "    # intensify the hair countours in preparation for the inpainting \n",
        "    # algorithm\n",
        "    ret,thresh2 = cv2.threshold(blackhat,intensity,255,cv2.THRESH_BINARY)\n",
        "    \n",
        "    # inpaint the original image depending on the mask\n",
        "    dst = cv2.inpaint(src,thresh2,1,cv2.INPAINT_TELEA)\n",
        "    \n",
        "    return dst"
      ]
    },
    {
      "cell_type": "code",
      "execution_count": null,
      "metadata": {
        "id": "l8YCZ8cfOivf"
      },
      "outputs": [],
      "source": [
        "### Specify the number of images\n",
        "for m in range(692, 1344+1):\n",
        "    \n",
        "    img = cv2.imread(img)\n",
        "    gray = cv2.cvtColor(img,cv2.COLOR_BGR2GRAY)\n",
        "    _,thresh = cv2.threshold(gray,1,255,cv2.THRESH_BINARY)\n",
        "    # cv2_imshow(gray)\n",
        "\n",
        "    threshold = 80\n",
        "    shadow_threshold = 0.025*gray_cropped_image.shape[0]\n",
        "\n",
        "    histo = np.histogram(gray,100,  [30,255])\n",
        "    for i in range(histo[0].shape[0]-5, 0, -1):\n",
        "      if histo[0][i-1] < np.mean([histo[0][i], histo[0][i+1], histo[0][i+2], histo[0][i+3], histo[0][i+4]]):\n",
        "        threshold_skin = histo[1][i-1]\n",
        "        break;\n",
        "    threshold_skin = threshold_skin - 30\n",
        "\n",
        "    # Finding where the pixels are above the threshold\n",
        "    for j in range(gray.shape[1]):\n",
        "      find = False\n",
        "      for i in range(gray.shape[0]):\n",
        "        if gray[i][j] >= threshold:\n",
        "          y_init = j\n",
        "          find = True\n",
        "          break\n",
        "      if find:\n",
        "        break\n",
        "    # Finding the cordinates from all 4 sides in the picture\n",
        "    for j in range(gray.shape[1]-1,0,-1):\n",
        "      find = False\n",
        "      for i in range(gray.shape[0]-1,0,-1):\n",
        "        if gray[i][j] >= threshold:\n",
        "          y_fin = j\n",
        "          find = True\n",
        "          break\n",
        "      if find:\n",
        "        break\n",
        "\n",
        "    for i in range(gray.shape[1]):\n",
        "      find = False\n",
        "      for j in range(gray.shape[0]):\n",
        "        if gray[i][j] >= threshold:\n",
        "          x_init = i\n",
        "          find = True\n",
        "          break\n",
        "      if find:\n",
        "        break\n",
        "\n",
        "    for i in range(gray.shape[1]-1,0,-1):\n",
        "      find = False\n",
        "      for j in range(gray.shape[0]-1,0,-1):\n",
        "        if gray[i][j] >= threshold:\n",
        "          x_fin = i\n",
        "          find = True\n",
        "          break\n",
        "      if find:\n",
        "        break\n",
        "\n",
        "    # crop_dims = np.array([x_init, y_init, x_fin, y_fin])\n",
        "    # Cropping the image so that only what's above the threshold is included\n",
        "    # for both the original and gray image\n",
        "    cropped_image = img[y_init:y_fin, x_init:x_fin]\n",
        "    gray_cropped_image = gray[y_init:y_fin, x_init:x_fin]\n",
        "    good_pixels = []\n",
        "    bad_pixels = []\n",
        "    for j in range(gray_cropped_image.shape[1]):\n",
        "      for i in range(gray_cropped_image.shape[0]):\n",
        "        if gray_cropped_image[i][j] < 30:\n",
        "          bad_pixels.append(np.array([i,j]))\n",
        "        elif gray_cropped_image[i][j] > threshold_skin:\n",
        "          good_pixels.append([i,j])\n",
        "    good_pixels = np.array(good_pixels)\n",
        "    bad_pixels = np.array(bad_pixels)\n",
        "    # I'm a little cinfused as to what happens here?\n",
        "    bad_list = np.random.randint(bad_pixels.shape[0], size=bad_pixels.shape[0])\n",
        "    good_list = np.random.randint(good_pixels.shape[0], size=good_pixels.shape[0])\n",
        "\n",
        "    bad_pixel_list = bad_pixels[bad_list]\n",
        "    good_pixel_list = good_pixels[good_list]\n",
        "    # cropped_image[bad_pixel_list] = cropped_image[good_pixel_list]\n",
        "    \n",
        "    temp = 0\n",
        "    #Replacing \"bad\" pixels with good ones\n",
        "    # 2nd quadrant\n",
        "    for i in range(int(np.floor(gray_cropped_image.shape[0]/2))):\n",
        "        for j in range(int(np.floor(gray_cropped_image.shape[1]/2))):\n",
        "            \n",
        "            if gray_cropped_image[i,j] < threshold or gray_cropped_image[i,j] < gray_cropped_image[i+1,j+1]:\n",
        "                rand = np.random.randint(0, good_pixel_list.shape[0])\n",
        "                cropped_image[i,j,:] = cropped_image[good_pixel_list[rand][0], good_pixel_list[rand][1], :] \n",
        "            elif temp > shadow_threshold:\n",
        "                temp = 0\n",
        "                break\n",
        "            else :\n",
        "                temp = temp +1\n",
        "\n",
        "            \n",
        "\n",
        "    # 1st quadrant\n",
        "    for i in range(int(np.floor(gray_cropped_image.shape[0]/2))):\n",
        "        for j in range(gray_cropped_image.shape[1]-3, int(np.floor(gray_cropped_image.shape[1]/2)-3), -1):\n",
        "            # if gray_cropped_image[i,j] > 2*threshold:\n",
        "            #     break\n",
        "            if gray_cropped_image[i,j] < threshold or gray_cropped_image[i,j] < gray_cropped_image[i+1,j-1]:\n",
        "                rand = np.random.randint(0, good_pixel_list.shape[0])\n",
        "                cropped_image[i,j,:] = cropped_image[good_pixel_list[rand][0], good_pixel_list[rand][1], :] \n",
        "            elif temp > shadow_threshold:\n",
        "                temp = 0\n",
        "                break\n",
        "            else :\n",
        "                temp = temp +1\n",
        "\n",
        "    # 3rd quadrant\n",
        "    for i in range(gray_cropped_image.shape[0]-2, int(np.floor(gray_cropped_image.shape[0]/2)-3), -1):\n",
        "        for j in range(int(np.floor(gray_cropped_image.shape[1]/2))):\n",
        "            # if gray_cropped_image[i,j] > 2*threshold:\n",
        "            #     break\n",
        "            if gray_cropped_image[i,j] < threshold or gray_cropped_image[i,j] < gray_cropped_image[i-1,j+1]:\n",
        "                rand = np.random.randint(0, good_pixel_list.shape[0])\n",
        "                cropped_image[i,j,:] = cropped_image[good_pixel_list[rand][0], good_pixel_list[rand][1], :] \n",
        "            elif temp > shadow_threshold:\n",
        "                temp = 0\n",
        "                break\n",
        "            else :\n",
        "                temp = temp +1\n",
        "\n",
        "    # 4th quadrant\n",
        "    for i in range(gray_cropped_image.shape[0]-2, int(np.floor(gray_cropped_image.shape[0]/2)-3), -1):\n",
        "        for j in range(gray_cropped_image.shape[1]-2, int(np.floor(gray_cropped_image.shape[1]/2)-3), -1):\n",
        "            # if gray_cropped_image[i,j] > 2*threshold:\n",
        "            #     break\n",
        "            if gray_cropped_image[i,j] < threshold or gray_cropped_image[i,j] < gray_cropped_image[i-1,j-1]:\n",
        "                rand = np.random.randint(0, good_pixel_list.shape[0])\n",
        "                cropped_image[i,j,:] = cropped_image[good_pixel_list[rand][0], good_pixel_list[rand][1], :] \n",
        "            elif temp > shadow_threshold:\n",
        "                temp = 0\n",
        "                break\n",
        "            else :\n",
        "                temp = temp +1\n",
        "\n",
        "\n",
        "\n",
        "    # path_out = os.path.join('/content/drive/MyDrive/pre_processed_images(different sizes)/', \"{:04d}\".format(m)+ '_derm_01.jpeg')\n",
        "    path_out = os.path.join('/content/drive/MyDrive/ELLA_Eivor1.0_DERM_dataset.zip (Unzipped Files)/preprocessed/', \"{:04d}\".format(m)+ '_derm_01.jpeg')\n",
        "    \n",
        "    cv2.imwrite(path_out, cropped_image)"
      ]
    },
    {
      "cell_type": "code",
      "execution_count": null,
      "metadata": {
        "id": "qTEFPInzlbTS"
      },
      "outputs": [],
      "source": [
        "zip_name = \"processed_imgs.zip\"\n",
        "processed_img_zip = zipfile.ZipFile(os.path.join(mod_zipped_file_path,zip_name), \"w\")\n",
        "# idx = 0\n",
        "with ZipFile(zipped_file_path, \"r\") as zip_ref:    \n",
        "    # Get list of files names in zip\n",
        "    list_of_files = zip_ref.namelist()\n",
        "    # print(list_of_files)\n",
        "   # Iterate over the list of file names in given list & print them\n",
        "    for idx in range(pseudo_labels.index.shape[0]):\n",
        "        if idx == pseudo_labels.index[-1]:\n",
        "          break\n",
        "      \n",
        "        # print(elem)\n",
        "        # print(os.path.join(zipped_file_path, elem))\n",
        "        # ext = os.path.splitext(elem)[-1]  # Get extension of elem\n",
        "        # name = os.path.splitext(elem)[0][12:] # Name of image \n",
        "        # if ext == \".jpg\":\n",
        "        # Read data in case extension is \".jpg\"\n",
        "        in_bytes = zip_ref.read(os.path.join('train/train/',pseudo_labels.image_name[idx]))\n",
        "\n",
        "        # Decode bytes to image.\n",
        "        img = cv2.imdecode(np.frombuffer(in_bytes, np.uint8), cv2.IMREAD_COLOR)\n",
        "\n",
        "        \n",
        "        biases = False\n",
        "        hair = pseudo_labels.hair_dense[idx] == 1\n",
        "        hair = pseudo_labels.hair_medium[idx] == 1\n",
        "        hair = pseudo_labels.hair_short[idx] == 1\n",
        "\n",
        "        frame = pseudo_labels.black_frame[idx] == 1\n",
        "\n",
        "        # check hair label\n",
        "        if hair == True or frame == True:\n",
        "          biases = True\n",
        "        \n",
        "        if frame == True:\n",
        "          # print(\"frame\")\n",
        "          img = frame_removal(img)\n",
        "          # pass image to frame removal function\n",
        "\n",
        "        img = hair_removal(img, kern=10, intensity=5)\n",
        "\n",
        "        img_encoded = cv2.imencode('.jpg', img)[1].tobytes()  # bytes class\n",
        "    \n",
        "        # 'repair' image from byte array\n",
        "        nparr = np.frombuffer(img_encoded, np.byte)\n",
        "    \n",
        "        # encoded_image = cv2.imdecode(, cv2.IMREAD_COLOR)\n",
        "        processed_img_zip.writestr(pseudo_labels.image_name[idx], nparr)\n",
        "        # idx += 1\n",
        "    processed_img_zip.close()"
      ]
    },
    {
      "cell_type": "code",
      "execution_count": null,
      "metadata": {
        "id": "7V1cH2fSmBGE"
      },
      "outputs": [],
      "source": [
        "zip_name = \"SAMtmp_processed_images.zip\"\n",
        "processed_img_zip = zipfile.ZipFile(os.path.join(mod_zipped_file_path,zip_name), \"w\")\n",
        "with ZipFile(SAM_zipped_file_path, \"r\") as zip_ref:    \n",
        "    # Get list of files names in zip\n",
        "    list_of_files = zip_ref.namelist()\n",
        "    for idx in range(1 ,len(list_of_files)): # list of files has all the files in zip includin the folders\n",
        "      ext = os.path.splitext(list_of_files[idx])[-1]\n",
        "      if ext == \".jpg\":\n",
        "        in_bytes = zip_ref.read(list_of_files[idx])\n",
        "        img = cv2.imdecode(np.frombuffer(in_bytes, np.uint8), cv2.IMREAD_COLOR)\n",
        "        # img = hair_removal(img, kern=10, intensity=5)\n",
        "        img_encoded = cv2.imencode('.jpg', img)[1].tobytes()  # bytes class\n",
        "        nparr = np.frombuffer(img_encoded, np.byte)\n",
        "        processed_img_zip.writestr(list_of_files[idx][7:], nparr)\n",
        "    processed_img_zip.close()"
      ]
    },
    {
      "cell_type": "code",
      "execution_count": null,
      "metadata": {
        "id": "_22Ry4zhorP5"
      },
      "outputs": [],
      "source": [
        "img_path = os.path.join(SAM_unprocessed_imgs, os.listdir(SAM_unprocessed_imgs)[10])"
      ]
    },
    {
      "cell_type": "code",
      "execution_count": null,
      "metadata": {
        "colab": {
          "base_uri": "https://localhost:8080/"
        },
        "id": "7HuHihX5pZi9",
        "outputId": "fccaa527-66cc-45f7-be27-9481de205c77"
      },
      "outputs": [
        {
          "name": "stderr",
          "output_type": "stream",
          "text": [
            "ERROR:root:Error disabling cv.imshow().\n",
            "Traceback (most recent call last):\n",
            "  File \"/usr/local/lib/python3.7/dist-packages/google/colab/_import_hooks/_cv2.py\", line 86, in load_module\n",
            "    cv_module.imshow,\n",
            "AttributeError: module 'cv' has no attribute 'imshow'\n"
          ]
        }
      ],
      "source": [
        "import cv"
      ]
    },
    {
      "cell_type": "code",
      "execution_count": null,
      "metadata": {
        "colab": {
          "base_uri": "https://localhost:8080/",
          "height": 240
        },
        "id": "JSgHFfTWmPqB",
        "outputId": "a88c8322-c702-4ec4-f853-83a72824bc67"
      },
      "outputs": [
        {
          "output_type": "error",
          "ename": "NameError",
          "evalue": "ignored",
          "traceback": [
            "\u001b[0;31m---------------------------------------------------------------------------\u001b[0m",
            "\u001b[0;31mNameError\u001b[0m                                 Traceback (most recent call last)",
            "\u001b[0;32m<ipython-input-4-f4361200d479>\u001b[0m in \u001b[0;36m<module>\u001b[0;34m()\u001b[0m\n\u001b[0;32m----> 1\u001b[0;31m \u001b[0mimg\u001b[0m \u001b[0;34m=\u001b[0m \u001b[0mcv2\u001b[0m\u001b[0;34m.\u001b[0m\u001b[0mimread\u001b[0m\u001b[0;34m(\u001b[0m\u001b[0mimg_path\u001b[0m\u001b[0;34m,\u001b[0m\u001b[0;36m0\u001b[0m\u001b[0;34m)\u001b[0m\u001b[0;34m\u001b[0m\u001b[0;34m\u001b[0m\u001b[0m\n\u001b[0m\u001b[1;32m      2\u001b[0m \u001b[0mimg\u001b[0m \u001b[0;34m=\u001b[0m \u001b[0mcv2\u001b[0m\u001b[0;34m.\u001b[0m\u001b[0mmedianBlur\u001b[0m\u001b[0;34m(\u001b[0m\u001b[0mimg\u001b[0m\u001b[0;34m,\u001b[0m\u001b[0;36m5\u001b[0m\u001b[0;34m)\u001b[0m\u001b[0;34m\u001b[0m\u001b[0;34m\u001b[0m\u001b[0m\n\u001b[1;32m      3\u001b[0m \u001b[0mcimg\u001b[0m \u001b[0;34m=\u001b[0m \u001b[0mcv2\u001b[0m\u001b[0;34m.\u001b[0m\u001b[0mcvtColor\u001b[0m\u001b[0;34m(\u001b[0m\u001b[0mimg\u001b[0m\u001b[0;34m,\u001b[0m\u001b[0mcv2\u001b[0m\u001b[0;34m.\u001b[0m\u001b[0mCOLOR_GRAY2BGR\u001b[0m\u001b[0;34m)\u001b[0m\u001b[0;34m\u001b[0m\u001b[0;34m\u001b[0m\u001b[0m\n\u001b[1;32m      4\u001b[0m \u001b[0;34m\u001b[0m\u001b[0m\n\u001b[1;32m      5\u001b[0m \u001b[0mcircles\u001b[0m \u001b[0;34m=\u001b[0m \u001b[0mcv2\u001b[0m\u001b[0;34m.\u001b[0m\u001b[0mHoughCircles\u001b[0m\u001b[0;34m(\u001b[0m\u001b[0mimg\u001b[0m\u001b[0;34m,\u001b[0m\u001b[0mcv2\u001b[0m\u001b[0;34m.\u001b[0m\u001b[0mHOUGH_GRADIENT\u001b[0m\u001b[0;34m,\u001b[0m\u001b[0;36m1\u001b[0m\u001b[0;34m,\u001b[0m\u001b[0;36m200\u001b[0m\u001b[0;34m)\u001b[0m\u001b[0;34m\u001b[0m\u001b[0;34m\u001b[0m\u001b[0m\n",
            "\u001b[0;31mNameError\u001b[0m: name 'img_path' is not defined"
          ]
        }
      ],
      "source": [
        "img = cv2.imread(img_path,0)\n",
        "img = cv2.medianBlur(img,5)\n",
        "cimg = cv2.cvtColor(img,cv2.COLOR_GRAY2BGR)\n",
        "\n",
        "circles = cv2.HoughCircles(img,cv2.HOUGH_GRADIENT,1,200)\n",
        "\n",
        "circles = np.uint16(np.around(circles))\n",
        "\n",
        "cropSize = (1000, 1000) # <- added: what size do you want to extract\n",
        "\n",
        "for i in circles[0,:]:\n",
        "    #draw outer circle\n",
        "    cv2.circle(cimg,(i[0],i[1]),i[2],(0,255,0),2)\n",
        "    #draw center of circle\n",
        "    cv2.circle(cimg,(i[0],i[1]),2,(0,0,255),3)\n",
        "\n",
        "    #crop ROI around circle...?\n",
        "    # make sure the bounds won't under-/overflow\n",
        "    cropCoords = (max(0, i[1]-cropSize[0]//2),min(img.shape[0], i[1]+cropSize[0]//2),\n",
        "                  max(0, i[0]-cropSize[1]//2),min(img.shape[1], i[0]+cropSize[1]//2)) \n",
        "    crop_cimg = cimg[cropCoords[0]:cropCoords[1],\n",
        "                     cropCoords[2]:cropCoords[3]] \n",
        "\n",
        "\n",
        "cv2_imshow(crop_cimg)\n"
      ]
    },
    {
      "cell_type": "code",
      "execution_count": null,
      "metadata": {
        "id": "ixcqIg5QozVU"
      },
      "outputs": [],
      "source": [
        ""
      ]
    },
    {
      "cell_type": "code",
      "execution_count": null,
      "metadata": {
        "colab": {
          "background_save": true
        },
        "id": "tz6b8CKBo1-G",
        "outputId": "040e1dd3-8326-4e6c-cece-e8fef60254fb"
      },
      "outputs": [
        {
          "ename": "NameError",
          "evalue": "ignored",
          "output_type": "error",
          "traceback": [
            "\u001b[0;31m---------------------------------------------------------------------------\u001b[0m",
            "\u001b[0;31mNameError\u001b[0m                                 Traceback (most recent call last)",
            "\u001b[0;32m<ipython-input-1-2aabb7683ad0>\u001b[0m in \u001b[0;36m<module>\u001b[0;34m()\u001b[0m\n\u001b[0;32m----> 1\u001b[0;31m cv2_imshow(cv2.HoughCircles(image=tmp,\n\u001b[0m\u001b[1;32m      2\u001b[0m                  \u001b[0mmethod\u001b[0m\u001b[0;34m=\u001b[0m\u001b[0mcv2\u001b[0m\u001b[0;34m.\u001b[0m\u001b[0mHOUGH_GRADIENT\u001b[0m\u001b[0;34m,\u001b[0m\u001b[0;34m\u001b[0m\u001b[0;34m\u001b[0m\u001b[0m\n\u001b[1;32m      3\u001b[0m                  \u001b[0mdp\u001b[0m\u001b[0;34m=\u001b[0m\u001b[0;36m1\u001b[0m\u001b[0;34m,\u001b[0m\u001b[0;34m\u001b[0m\u001b[0;34m\u001b[0m\u001b[0m\n\u001b[1;32m      4\u001b[0m                  \u001b[0mminDist\u001b[0m\u001b[0;34m=\u001b[0m\u001b[0;36m1000\u001b[0m\u001b[0;34m,\u001b[0m\u001b[0;34m\u001b[0m\u001b[0;34m\u001b[0m\u001b[0m\n\u001b[1;32m      5\u001b[0m                  \u001b[0mminRadius\u001b[0m\u001b[0;34m=\u001b[0m\u001b[0;36m700\u001b[0m\u001b[0;34m,\u001b[0m\u001b[0;34m\u001b[0m\u001b[0;34m\u001b[0m\u001b[0m\n",
            "\u001b[0;31mNameError\u001b[0m: name 'cv2_imshow' is not defined"
          ]
        }
      ],
      "source": [
        "cv2_imshow(cv2.HoughCircles(image=tmp,\n",
        "                 method=cv2.HOUGH_GRADIENT,\n",
        "                 dp=1,\n",
        "                 minDist=1,\n",
        "                 maxRadius=-1, \n",
        "                 param1=50,param2=30))"
      ]
    },
    {
      "cell_type": "code",
      "execution_count": null,
      "metadata": {
        "id": "dVrMgkfpr5ma"
      },
      "outputs": [],
      "source": [
        "tmp = cv2.Canny(img,10,10)"
      ]
    },
    {
      "cell_type": "code",
      "execution_count": null,
      "metadata": {
        "id": "d5WTKDUOsyAJ"
      },
      "outputs": [],
      "source": [
        ""
      ]
    }
  ],
  "metadata": {
    "colab": {
      "name": "cut_image_out.ipynb",
      "provenance": [],
      "collapsed_sections": [],
      "authorship_tag": "ABX9TyO5b50wNA+ss4lKtdpx1Zid",
      "include_colab_link": true
    },
    "kernelspec": {
      "display_name": "Python 3",
      "name": "python3"
    },
    "language_info": {
      "name": "python"
    }
  },
  "nbformat": 4,
  "nbformat_minor": 0
}